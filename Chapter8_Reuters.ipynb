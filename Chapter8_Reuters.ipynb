{
  "nbformat": 4,
  "nbformat_minor": 0,
  "metadata": {
    "accelerator": "GPU",
    "colab": {
      "name": "Chapter5_Reuters.ipynb",
      "provenance": [],
      "collapsed_sections": [],
      "toc_visible": true
    },
    "kernelspec": {
      "display_name": "Python 3",
      "name": "python3"
    }
  },
  "cells": [
    {
      "cell_type": "code",
      "metadata": {
        "id": "e17yHfPo4LMb"
      },
      "source": [
        "\n",
        "# Install AutoKeras\n",
        "!pip3 install autokeras"
      ],
      "execution_count": null,
      "outputs": []
    },
    {
      "cell_type": "code",
      "metadata": {
        "id": "-gPV4xt3-U0c"
      },
      "source": [
        "import tensorflow as tf\n",
        "from tensorflow.keras.datasets import reuters \n",
        "import numpy as np\n",
        "import autokeras as ak"
      ],
      "execution_count": null,
      "outputs": []
    },
    {
      "cell_type": "markdown",
      "metadata": {
        "id": "Fq3JaeHG9Z1o"
      },
      "source": [
        "### Getting and preprocessing the Reuters newswire dataset "
      ]
    },
    {
      "cell_type": "code",
      "metadata": {
        "id": "JhAU8rDk6ez_"
      },
      "source": [
        "# Download and prepare the dataset\n",
        "def reuters_raw(max_features=20000):\n",
        "    index_offset = 3  # word index offset\n",
        "\n",
        "    (x_train, y_train), (x_test, y_test) = tf.keras.datasets.reuters.load_data(\n",
        "        num_words=max_features,\n",
        "        index_from=index_offset)\n",
        "    x_train = x_train\n",
        "    y_train = y_train.reshape(-1, 1)\n",
        "    x_test = x_test\n",
        "    y_test = y_test.reshape(-1, 1)\n",
        "\n",
        "    word_to_id = tf.keras.datasets.reuters.get_word_index()\n",
        "    word_to_id = {k: (v + index_offset) for k, v in word_to_id.items()}\n",
        "    word_to_id[\"<PAD>\"] = 0\n",
        "    word_to_id[\"<START>\"] = 1\n",
        "    word_to_id[\"<UNK>\"] = 2\n",
        "\n",
        "    id_to_word = {value: key for key, value in word_to_id.items()}\n",
        "    x_train = list(map(lambda sentence: ' '.join(\n",
        "        id_to_word[i] for i in sentence), x_train))\n",
        "    x_test = list(map(lambda sentence: ' '.join(\n",
        "        id_to_word[i] for i in sentence), x_test))\n",
        "    x_train = np.array(x_train, dtype=np.str)\n",
        "    x_test = np.array(x_test, dtype=np.str)\n",
        "    return (x_train, y_train), (x_test, y_test)"
      ],
      "execution_count": null,
      "outputs": []
    },
    {
      "cell_type": "markdown",
      "metadata": {
        "id": "WqLwBCJajSz5"
      },
      "source": [
        "#### Creating the data sets"
      ]
    },
    {
      "cell_type": "code",
      "metadata": {
        "id": "IHjFSYVqQdzS",
        "colab": {
          "base_uri": "https://localhost:8080/"
        },
        "outputId": "3958e5f1-562e-4304-9e14-94ac30991405"
      },
      "source": [
        "(x_train, y_train), (x_test, y_test) = reuters_raw()\n",
        "print(x_train.shape)  # (8982,)\n",
        "print(y_train.shape)  # (8982, 1)"
      ],
      "execution_count": null,
      "outputs": [
        {
          "output_type": "stream",
          "text": [
            "/usr/local/lib/python3.6/dist-packages/tensorflow/python/keras/datasets/reuters.py:148: VisibleDeprecationWarning: Creating an ndarray from ragged nested sequences (which is a list-or-tuple of lists-or-tuples-or ndarrays with different lengths or shapes) is deprecated. If you meant to do this, you must specify 'dtype=object' when creating the ndarray\n",
            "  x_train, y_train = np.array(xs[:idx]), np.array(labels[:idx])\n",
            "/usr/local/lib/python3.6/dist-packages/tensorflow/python/keras/datasets/reuters.py:149: VisibleDeprecationWarning: Creating an ndarray from ragged nested sequences (which is a list-or-tuple of lists-or-tuples-or ndarrays with different lengths or shapes) is deprecated. If you meant to do this, you must specify 'dtype=object' when creating the ndarray\n",
            "  x_test, y_test = np.array(xs[idx:]), np.array(labels[idx:])\n"
          ],
          "name": "stderr"
        },
        {
          "output_type": "stream",
          "text": [
            "(8982,)\n",
            "(8982, 1)\n"
          ],
          "name": "stdout"
        }
      ]
    },
    {
      "cell_type": "markdown",
      "metadata": {
        "id": "pG2AhZ2-9y3Z"
      },
      "source": [
        "### Showing some samples"
      ]
    },
    {
      "cell_type": "code",
      "metadata": {
        "id": "U4Oqlr39ctbx",
        "colab": {
          "base_uri": "https://localhost:8080/"
        },
        "outputId": "dd7c29bc-5b2d-4c20-90b6-fd5278071d8a"
      },
      "source": [
        "print(x_train[0][:50])  # <START> <UNK> <UNK> said as a result of its decemb"
      ],
      "execution_count": null,
      "outputs": [
        {
          "output_type": "stream",
          "text": [
            "<START> <UNK> <UNK> said as a result of its decemb\n"
          ],
          "name": "stdout"
        }
      ]
    },
    {
      "cell_type": "markdown",
      "metadata": {
        "id": "7CgvSBr993W1"
      },
      "source": [
        "### Creating and training the models"
      ]
    },
    {
      "cell_type": "code",
      "metadata": {
        "colab": {
          "base_uri": "https://localhost:8080/"
        },
        "id": "_JBZNRe2HYHU",
        "outputId": "5f70921a-afe3-4e58-f7bd-1172cdff5b90"
      },
      "source": [
        "# Initialize the TextClassifier\n",
        "clf = ak.TextClassifier(\n",
        "    max_trials=2,\n",
        "    overwrite=True,\n",
        ")\n",
        "\n",
        "# Callback to avoid overfitting with the EarlyStopping.\n",
        "cbs = [\n",
        "    tf.keras.callbacks.EarlyStopping(patience=2),\n",
        "]\n",
        "\n",
        "# Search for the best model.\n",
        "clf.fit(\n",
        "    x_train,\n",
        "    y_train,\n",
        "    callbacks=cbs\n",
        ")"
      ],
      "execution_count": null,
      "outputs": [
        {
          "output_type": "stream",
          "text": [
            "Trial 2 Complete [00h 00m 41s]\n",
            "val_loss: 1.1574714183807373\n",
            "\n",
            "Best val_loss So Far: 0.9651017189025879\n",
            "Total elapsed time: 00h 01m 20s\n",
            "INFO:tensorflow:Oracle triggered exit\n",
            "Epoch 1/6\n",
            "281/281 [==============================] - 5s 16ms/step - loss: 2.4081 - accuracy: 0.4190\n",
            "Epoch 2/6\n",
            "281/281 [==============================] - 4s 15ms/step - loss: 1.4365 - accuracy: 0.6616\n",
            "Epoch 3/6\n",
            "281/281 [==============================] - 4s 15ms/step - loss: 1.1436 - accuracy: 0.7245\n",
            "Epoch 4/6\n",
            "281/281 [==============================] - 4s 15ms/step - loss: 0.9179 - accuracy: 0.7780\n",
            "Epoch 5/6\n",
            "281/281 [==============================] - 4s 15ms/step - loss: 0.7517 - accuracy: 0.8181\n",
            "Epoch 6/6\n",
            "281/281 [==============================] - 4s 15ms/step - loss: 0.6245 - accuracy: 0.8425\n",
            "INFO:tensorflow:Assets written to: ./text_classifier/best_model/assets\n"
          ],
          "name": "stdout"
        }
      ]
    },
    {
      "cell_type": "markdown",
      "metadata": {
        "id": "7BF5OpQr-IEf"
      },
      "source": [
        "### Evaluating the best model"
      ]
    },
    {
      "cell_type": "code",
      "metadata": {
        "id": "BrbIEXVXZEKD",
        "colab": {
          "base_uri": "https://localhost:8080/"
        },
        "outputId": "17cd62c6-3566-4986-84b8-fcc6d1b24ed3"
      },
      "source": [
        "# Evaluate the chosen model with testing data\n",
        "clf.evaluate(x_test, y_test)"
      ],
      "execution_count": null,
      "outputs": [
        {
          "output_type": "stream",
          "text": [
            "71/71 [==============================] - 1s 7ms/step - loss: 0.9743 - accuracy: 0.7778\n"
          ],
          "name": "stdout"
        },
        {
          "output_type": "execute_result",
          "data": {
            "text/plain": [
              "[0.9742580652236938, 0.777827262878418]"
            ]
          },
          "metadata": {
            "tags": []
          },
          "execution_count": 10
        }
      ]
    },
    {
      "cell_type": "markdown",
      "metadata": {
        "id": "8ThKQ5GvI193"
      },
      "source": [
        "###Visualizing the model"
      ]
    },
    {
      "cell_type": "code",
      "metadata": {
        "id": "jokSoUSCN01Y",
        "colab": {
          "base_uri": "https://localhost:8080/"
        },
        "outputId": "0ff44729-67b4-4a8f-a405-0982ac8c0c42"
      },
      "source": [
        "# First we export the model to a keras model\n",
        "keras_model = clf.export_model()\n",
        "\n",
        "# Now, we ask for the model Sumary:\n",
        "keras_model.summary()"
      ],
      "execution_count": null,
      "outputs": [
        {
          "output_type": "stream",
          "text": [
            "WARNING:tensorflow:5 out of the last 5 calls to <function recreate_function.<locals>.restored_function_body at 0x7f024daaa840> triggered tf.function retracing. Tracing is expensive and the excessive number of tracings could be due to (1) creating @tf.function repeatedly in a loop, (2) passing tensors with different shapes, (3) passing Python objects instead of tensors. For (1), please define your @tf.function outside of the loop. For (2), @tf.function has experimental_relax_shapes=True option that relaxes argument shapes that can avoid unnecessary retracing. For (3), please refer to https://www.tensorflow.org/guide/function#controlling_retracing and https://www.tensorflow.org/api_docs/python/tf/function for  more details.\n",
            "Model: \"model\"\n",
            "_________________________________________________________________\n",
            "Layer (type)                 Output Shape              Param #   \n",
            "=================================================================\n",
            "input_1 (InputLayer)         [(None,)]                 0         \n",
            "_________________________________________________________________\n",
            "expand_last_dim (ExpandLastD (None, 1)                 0         \n",
            "_________________________________________________________________\n",
            "text_vectorization (TextVect (None, 512)               0         \n",
            "_________________________________________________________________\n",
            "embedding (Embedding)        (None, 512, 64)           320064    \n",
            "_________________________________________________________________\n",
            "dropout (Dropout)            (None, 512, 64)           0         \n",
            "_________________________________________________________________\n",
            "conv1d (Conv1D)              (None, 508, 256)          82176     \n",
            "_________________________________________________________________\n",
            "global_max_pooling1d (Global (None, 256)               0         \n",
            "_________________________________________________________________\n",
            "dense (Dense)                (None, 256)               65792     \n",
            "_________________________________________________________________\n",
            "re_lu (ReLU)                 (None, 256)               0         \n",
            "_________________________________________________________________\n",
            "dropout_1 (Dropout)          (None, 256)               0         \n",
            "_________________________________________________________________\n",
            "dense_1 (Dense)              (None, 46)                11822     \n",
            "_________________________________________________________________\n",
            "classification_head_1 (Softm (None, 46)                0         \n",
            "=================================================================\n",
            "Total params: 479,854\n",
            "Trainable params: 479,854\n",
            "Non-trainable params: 0\n",
            "_________________________________________________________________\n"
          ],
          "name": "stdout"
        }
      ]
    },
    {
      "cell_type": "code",
      "metadata": {
        "id": "j0UJsat3N387",
        "colab": {
          "base_uri": "https://localhost:8080/",
          "height": 1000
        },
        "outputId": "23cb28b8-f83d-46d6-d03a-b2e1e3ba5782"
      },
      "source": [
        "from tensorflow.keras.utils import plot_model\n",
        "plot_model(keras_model)"
      ],
      "execution_count": null,
      "outputs": [
        {
          "output_type": "execute_result",
          "data": {
            "image/png": "[encoded data removed]",
            "text/plain": [
              "<IPython.core.display.Image object>"
            ]
          },
          "metadata": {
            "tags": []
          },
          "execution_count": 14
        }
      ]
    }
  ]
}
